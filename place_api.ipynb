{
 "cells": [
  {
   "cell_type": "code",
   "execution_count": 1,
   "metadata": {},
   "outputs": [],
   "source": [
    "import requests\n",
    "import json\n",
    "import time\n",
    "import csv\n",
    "class GooglePlaces(object):\n",
    "  def __init__(self,apikey):\n",
    "    super(GooglePlaces,self).__init__\n",
    "    self.apikey=apikey\n",
    "\n",
    "  def search_places_by_coordinate(self,location,radius,types):\n",
    "    endpoint_url = \"https://maps.googleapis.com/maps/api/place/nearbysearch/json\"\n",
    "    places = []\n",
    "    params = {\n",
    "        'location':location,\n",
    "        'radius':radius,\n",
    "        'types':types,\n",
    "        'key':self.apikey\n",
    "    }\n",
    "    res = requests.get(endpoint_url,params=params)\n",
    "    #print(res)\n",
    "    results = json.loads(res.content)\n",
    "    places.extend(results['results'])\n",
    "    time.sleep(2)\n",
    "    while \"next_page_token\" in results:\n",
    "      params['pagetoken'] = results['next_page_token'],\n",
    "      res = requests.get(endpoint_url,params=params)\n",
    "      results = json.loads(res.content)\n",
    "      places.extend(results['results'])\n",
    "      time.sleep(2)\n",
    "    return places\n",
    "    \n",
    "  def get_place_details(self,place_id,fields):\n",
    "    endpoint_url = \"https://maps.googleapis.com/maps/api/place/details/json\"\n",
    "    params = {\n",
    "        'placeid': place_id,\n",
    "        'fields': \",\".join(fields),\n",
    "        'key': self.apikey\n",
    "    }\n",
    "    res = requests.get(endpoint_url,params=params)\n",
    "    place_details = json.loads(res.content)\n",
    "    return place_details\n"
   ]
  },
  {
   "cell_type": "code",
   "execution_count": 2,
   "metadata": {},
   "outputs": [],
   "source": [
    "def reviews_by_placeid(place_id):\n",
    "    fields2 = ['reviews','name']\n",
    "    place_id2 = place_id\n",
    "    result2 = api.get_place_details(place_id2,fields2)\n",
    "    reviews_list = result2['result']['reviews']\n",
    "    csv_columns = ['author_name','author_url','language','profile_photo_url','rating','relative_time_description','text','time']\n",
    "    dict_data = reviews_list\n",
    "    csv_file = result2['result']['name']+'.csv'\n",
    "    try:\n",
    "        with open(csv_file,'w') as csvfile:\n",
    "            writer = csv.DictWriter(csvfile,fieldnames=csv_columns)\n",
    "            writer.writeheader()\n",
    "            for data in dict_data:\n",
    "                writer.writerow(data)\n",
    "    except IOError:\n",
    "        print('I/O Error')"
   ]
  },
  {
   "cell_type": "code",
   "execution_count": 3,
   "metadata": {},
   "outputs": [],
   "source": [
    "file = open(\"apikey.txt\",\"rt\")\n",
    "content = file.read()\n",
    "file.close()\n",
    "content = str(content)"
   ]
  },
  {
   "cell_type": "code",
   "execution_count": 4,
   "metadata": {},
   "outputs": [],
   "source": [
    "api = GooglePlaces(content)"
   ]
  },
  {
   "cell_type": "code",
   "execution_count": 9,
   "metadata": {},
   "outputs": [],
   "source": [
    "# places = api.search_places_by_coordinate(\"26.494740,74.631200\", \"500\", \"bank\")\n",
    "# print(len(places))"
   ]
  },
  {
   "cell_type": "code",
   "execution_count": 5,
   "metadata": {},
   "outputs": [],
   "source": [
    "place_id = 'ChIJ____b8DR5zsRVz_XpIUEKcA'\n",
    "reviews_by_placeid(place_id)"
   ]
  },
  {
   "cell_type": "code",
   "execution_count": null,
   "metadata": {},
   "outputs": [],
   "source": []
  }
 ],
 "metadata": {
  "kernelspec": {
   "display_name": "Python 3",
   "language": "python",
   "name": "python3"
  },
  "language_info": {
   "codemirror_mode": {
    "name": "ipython",
    "version": 3
   },
   "file_extension": ".py",
   "mimetype": "text/x-python",
   "name": "python",
   "nbconvert_exporter": "python",
   "pygments_lexer": "ipython3",
   "version": "3.6.9"
  }
 },
 "nbformat": 4,
 "nbformat_minor": 4
}
